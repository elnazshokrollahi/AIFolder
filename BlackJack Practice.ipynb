{
 "cells": [
  {
   "cell_type": "code",
   "execution_count": 1,
   "metadata": {},
   "outputs": [],
   "source": [
    "def hand_total (hand):\n",
    "    \n",
    "    total = 0 \n",
    "    aces = 0\n",
    "    \n",
    "    for card in hand:\n",
    "        if card in ['J','Q', 'K']:\n",
    "            total +=10\n",
    "        elif card == 'A':\n",
    "            total +=1\n",
    "            \n",
    "        else:\n",
    "            total += int(card)\n",
    "        \n",
    "    total  +=aces\n",
    "    \n",
    "    while total +10 <= 21 and aces >0:\n",
    "        total +=10\n",
    "        aces -=1\n",
    "    return total\n",
    "\n",
    "def blackjack_hand_greater_than(hand_1, hand_2):\n",
    "    total_1 = hand_total(hand_1)\n",
    "    total_2 = hand_total(hand_2)\n",
    "    return total_1 <= 21 and total_1 > (total_2 or total_2 > 21)"
   ]
  },
  {
   "cell_type": "code",
   "execution_count": 2,
   "metadata": {},
   "outputs": [
    {
     "data": {
      "text/plain": [
       "False"
      ]
     },
     "execution_count": 2,
     "metadata": {},
     "output_type": "execute_result"
    }
   ],
   "source": [
    "blackjack_hand_greater_than(['K', 'K', '2'], ['3'])"
   ]
  },
  {
   "cell_type": "code",
   "execution_count": 3,
   "metadata": {},
   "outputs": [
    {
     "data": {
      "text/plain": [
       "False"
      ]
     },
     "execution_count": 3,
     "metadata": {},
     "output_type": "execute_result"
    }
   ],
   "source": [
    "blackjack_hand_greater_than(['K'], ['10'])"
   ]
  },
  {
   "cell_type": "code",
   "execution_count": null,
   "metadata": {},
   "outputs": [],
   "source": []
  }
 ],
 "metadata": {
  "kernelspec": {
   "display_name": "Python 3",
   "language": "python",
   "name": "python3"
  },
  "language_info": {
   "codemirror_mode": {
    "name": "ipython",
    "version": 3
   },
   "file_extension": ".py",
   "mimetype": "text/x-python",
   "name": "python",
   "nbconvert_exporter": "python",
   "pygments_lexer": "ipython3",
   "version": "3.7.6"
  }
 },
 "nbformat": 4,
 "nbformat_minor": 4
}
